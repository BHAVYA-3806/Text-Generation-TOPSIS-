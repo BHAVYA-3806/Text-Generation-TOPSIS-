{
  "nbformat": 4,
  "nbformat_minor": 0,
  "metadata": {
    "colab": {
      "provenance": [],
      "authorship_tag": "ABX9TyMXYh1VGkNqY0JlWvjiHBPo",
      "include_colab_link": true
    },
    "kernelspec": {
      "name": "python3",
      "display_name": "Python 3"
    },
    "language_info": {
      "name": "python"
    }
  },
  "cells": [
    {
      "cell_type": "markdown",
      "metadata": {
        "id": "view-in-github",
        "colab_type": "text"
      },
      "source": [
        "<a href=\"https://colab.research.google.com/github/BHAVYA-3806/Text-Generation-TOPSIS-/blob/main/TextGeneration(TOPSIS).ipynb\" target=\"_parent\"><img src=\"https://colab.research.google.com/assets/colab-badge.svg\" alt=\"Open In Colab\"/></a>"
      ]
    },
    {
      "cell_type": "code",
      "source": [
        "import numpy as np\n",
        "import pandas as pd\n",
        "import matplotlib.pyplot as plt\n",
        "import seaborn as sns\n",
        "from sklearn.preprocessing import MinMaxScaler\n",
        "import plotly.graph_objects as go"
      ],
      "metadata": {
        "id": "9SGceog6pa0k"
      },
      "execution_count": 16,
      "outputs": []
    },
    {
      "cell_type": "code",
      "execution_count": 17,
      "metadata": {
        "id": "8eux36DwpLvc"
      },
      "outputs": [],
      "source": [
        "class ModelEvaluator:\n",
        "    def __init__(self):\n",
        "        # Define the models and their characteristics\n",
        "        self.models = [\n",
        "            'LLaMA-7B',\n",
        "            'GPT-3.5-Turbo',\n",
        "            'Mistral-7B',\n",
        "            'Falcon-40B',\n",
        "            'T5-Large'\n",
        "        ]\n",
        "\n",
        "        # Define evaluation criteria\n",
        "        self.criteria = [\n",
        "            'Perplexity',        # Lower is better\n",
        "            'Generation_Speed',   # Higher is better\n",
        "            'Model_Size_GB',     # Lower is better\n",
        "            'Memory_Usage_GB',    # Lower is better\n",
        "            'BLEU_Score'         # Higher is better\n",
        "        ]\n",
        "\n",
        "        # Sample data - replace with your actual measurements\n",
        "        self.decision_matrix = np.array([\n",
        "            [12.0, 120, 13, 8, 40.2],  # LLaMA-7B\n",
        "            [10.5, 140, 15, 12, 42.5], # GPT-3.5-Turbo\n",
        "            [11.8, 100, 10, 7, 38.7],  # Mistral-7B\n",
        "            [9.2, 90, 40, 20, 45.3],   # Falcon-40B\n",
        "            [13.5, 110, 3, 6, 37.1]    # T5-Large\n",
        "        ])\n",
        "\n",
        "        # Criteria weights (must sum to 1)\n",
        "        self.weights = np.array([0.3, 0.2, 0.15, 0.15, 0.2])\n",
        "\n",
        "        # Criteria type: 1 for benefit (higher better), -1 for cost (lower better)\n",
        "        self.criteria_type = np.array([-1, 1, -1, -1, 1])\n",
        "\n",
        "    def normalize_matrix(self):\n",
        "        \"\"\"Normalize the decision matrix\"\"\"\n",
        "        scaler = MinMaxScaler()\n",
        "        normalized = scaler.fit_transform(self.decision_matrix)\n",
        "        # Adjust for criteria type (cost/benefit)\n",
        "        normalized = normalized * self.criteria_type.reshape(1, -1)\n",
        "        return normalized\n",
        "\n",
        "    def calculate_topsis(self):\n",
        "        \"\"\"Calculate TOPSIS scores\"\"\"\n",
        "        # Normalize the decision matrix\n",
        "        normalized = self.normalize_matrix()\n",
        "\n",
        "        # Weight the normalized matrix\n",
        "        weighted = normalized * self.weights\n",
        "\n",
        "        # Ideal best and worst solutions\n",
        "        ideal_best = np.max(weighted, axis=0)\n",
        "        ideal_worst = np.min(weighted, axis=0)\n",
        "\n",
        "        # Calculate distances\n",
        "        d_best = np.sqrt(np.sum((weighted - ideal_best)**2, axis=1))\n",
        "        d_worst = np.sqrt(np.sum((weighted - ideal_worst)**2, axis=1))\n",
        "\n",
        "        # Calculate relative closeness\n",
        "        topsis_scores = d_worst / (d_worst + d_best)\n",
        "\n",
        "        return topsis_scores\n",
        "\n",
        "    def plot_results(self):\n",
        "        \"\"\"Create visualizations for the analysis\"\"\"\n",
        "        scores = self.calculate_topsis()\n",
        "\n",
        "        # 1. Bar plot of TOPSIS scores\n",
        "        plt.figure(figsize=(12, 6))\n",
        "        plt.subplot(1, 2, 1)\n",
        "        plt.bar(self.models, scores)\n",
        "        plt.title('TOPSIS Scores by Model')\n",
        "        plt.xticks(rotation=45)\n",
        "        plt.ylabel('TOPSIS Score')\n",
        "\n",
        "        # 2. Radar chart of normalized criteria\n",
        "        normalized = self.normalize_matrix()\n",
        "        angles = np.linspace(0, 2*np.pi, len(self.criteria), endpoint=False)\n",
        "\n",
        "        fig = go.Figure()\n",
        "        for idx, model in enumerate(self.models):\n",
        "            fig.add_trace(go.Scatterpolar(\n",
        "                r=normalized[idx],\n",
        "                theta=self.criteria,\n",
        "                name=model\n",
        "            ))\n",
        "\n",
        "        fig.update_layout(\n",
        "            polar=dict(radialaxis=dict(visible=True, range=[-1, 1])),\n",
        "            showlegend=True,\n",
        "            title='Model Comparison Across Criteria'\n",
        "        )\n",
        "\n",
        "        # 3. Create results DataFrame\n",
        "        results_df = pd.DataFrame({\n",
        "            'Model': self.models,\n",
        "            'TOPSIS Score': scores\n",
        "        })\n",
        "        results_df = results_df.sort_values('TOPSIS Score', ascending=False)\n",
        "\n",
        "        return fig, results_df\n",
        "\n",
        "    def generate_report(self):\n",
        "        \"\"\"Generate a complete analysis report\"\"\"\n",
        "        scores = self.calculate_topsis()\n",
        "        normalized = self.normalize_matrix()\n",
        "\n",
        "        report = pd.DataFrame({\n",
        "            'Model': self.models,\n",
        "            'TOPSIS Score': scores,\n",
        "            **{criterion: normalized[:, i] for i, criterion in enumerate(self.criteria)}\n",
        "        }).sort_values('TOPSIS Score', ascending=False)\n",
        "\n",
        "        return report"
      ]
    },
    {
      "cell_type": "code",
      "source": [
        "def main():\n",
        "    evaluator = ModelEvaluator()\n",
        "\n",
        "    # Generate and display results\n",
        "    radar_plot, results = evaluator.plot_results()\n",
        "    full_report = evaluator.generate_report()\n",
        "\n",
        "    print(\"\\nModel Rankings:\")\n",
        "    print(results)\n",
        "\n",
        "    print(\"\\nDetailed Analysis Report:\")\n",
        "    print(full_report)\n",
        "\n",
        "    # Save visualizations\n",
        "    radar_plot.write_html(\"model_comparison_radar.html\")\n",
        "    plt.savefig(\"topsis_scores.png\")\n"
      ],
      "metadata": {
        "id": "DPcmRp3hpltM"
      },
      "execution_count": 18,
      "outputs": []
    },
    {
      "cell_type": "code",
      "source": [
        "if __name__ == \"__main__\":\n",
        "  main()"
      ],
      "metadata": {
        "colab": {
          "base_uri": "https://localhost:8080/",
          "height": 1000
        },
        "id": "-bCut6_3ppl7",
        "outputId": "4c51ae53-a28e-489e-a26d-b7365881285b"
      },
      "execution_count": 19,
      "outputs": [
        {
          "output_type": "stream",
          "name": "stdout",
          "text": [
            "\n",
            "Model Rankings:\n",
            "           Model  TOPSIS Score\n",
            "1  GPT-3.5-Turbo      0.712232\n",
            "3     Falcon-40B      0.552912\n",
            "0       LLaMA-7B      0.494749\n",
            "2     Mistral-7B      0.436923\n",
            "4       T5-Large      0.373677\n",
            "\n",
            "Detailed Analysis Report:\n",
            "           Model  TOPSIS Score  Perplexity  Generation_Speed  Model_Size_GB  \\\n",
            "1  GPT-3.5-Turbo      0.712232   -0.302326               1.0      -0.324324   \n",
            "3     Falcon-40B      0.552912   -0.000000               0.0      -1.000000   \n",
            "0       LLaMA-7B      0.494749   -0.651163               0.6      -0.270270   \n",
            "2     Mistral-7B      0.436923   -0.604651               0.2      -0.189189   \n",
            "4       T5-Large      0.373677   -1.000000               0.4      -0.000000   \n",
            "\n",
            "   Memory_Usage_GB  BLEU_Score  \n",
            "1        -0.428571    0.658537  \n",
            "3        -1.000000    1.000000  \n",
            "0        -0.142857    0.378049  \n",
            "2        -0.071429    0.195122  \n",
            "4        -0.000000    0.000000  \n"
          ]
        },
        {
          "output_type": "display_data",
          "data": {
            "text/plain": [
              "<Figure size 1200x600 with 1 Axes>"
            ],
            "image/png": "[encoded data removed]"
          },
          "metadata": {}
        }
      ]
    }
  ]
}